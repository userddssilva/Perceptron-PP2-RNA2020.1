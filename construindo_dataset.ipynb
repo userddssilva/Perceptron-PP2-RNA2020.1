{
 "metadata": {
  "language_info": {
   "codemirror_mode": {
    "name": "ipython",
    "version": 3
   },
   "file_extension": ".py",
   "mimetype": "text/x-python",
   "name": "python",
   "nbconvert_exporter": "python",
   "pygments_lexer": "ipython3",
   "version": "3.8.5-final"
  },
  "orig_nbformat": 2,
  "kernelspec": {
   "name": "python_defaultSpec_1599164041738",
   "display_name": "Python 3.8.5 32-bit"
  }
 },
 "nbformat": 4,
 "nbformat_minor": 2,
 "cells": [
  {
   "cell_type": "markdown",
   "metadata": {},
   "source": [
    "## Tranformando o conjunto de treinamento em cvs"
   ]
  },
  {
   "cell_type": "markdown",
   "metadata": {},
   "source": [
    "> Autor: Dayvson Silva\n",
    "\n",
    "> Data: 03/09/2020"
   ]
  },
  {
   "cell_type": "markdown",
   "metadata": {},
   "source": [
    "> Taferas para realizar a transformação\n",
    "\n",
    "- Ler os arquivos binários que armazenam os\n",
    "\n",
    "- Separar os dados em entradas e saidas\n",
    "\n",
    "- Criar uma estrutura para preencher com os dados\n",
    "\n",
    "- Exportar os dados para um arquivo csv"
   ]
  },
  {
   "cell_type": "markdown",
   "metadata": {},
   "source": [
    "## Importando as bibliotecas usadas nas tarefas"
   ]
  },
  {
   "cell_type": "code",
   "execution_count": 3,
   "metadata": {},
   "outputs": [],
   "source": [
    "import numpy as np\n",
    "import pandas as pd\n",
    "import os"
   ]
  },
  {
   "cell_type": "markdown",
   "metadata": {},
   "source": [
    "## Lendo os arquivos com numpy"
   ]
  },
  {
   "cell_type": "markdown",
   "metadata": {},
   "source": [
    "### Visualizando o shape dos arquivos"
   ]
  },
  {
   "cell_type": "code",
   "execution_count": 6,
   "metadata": {},
   "outputs": [],
   "source": [
    "def show_shape(full_path, file_data):\n",
    "    array = np.fromfile(file=full_path)\n",
    "    print(\"No arquivo\", file_data, \"tem\", array.shape, \"itens.\")\n",
    "\n",
    "def run_files_data(path_data = ''):\n",
    "    for file_data in os.listdir(path_data):\n",
    "        full_path = os.path.join(path_data, file_data)\n",
    "        show_shape(full_path, file_data)"
   ]
  },
  {
   "cell_type": "code",
   "execution_count": 7,
   "metadata": {
    "tags": []
   },
   "outputs": [
    {
     "output_type": "stream",
     "name": "stdout",
     "text": "No arquivo data0.txt tem (1750,) itens.\nNo arquivo data1.txt tem (1800,) itens.\nNo arquivo data2.txt tem (1800,) itens.\nNo arquivo data3.txt tem (1800,) itens.\nNo arquivo dataAll.txt tem (3000,) itens.\nNo arquivo dataHoldout.txt tem (2400,) itens.\n"
    }
   ],
   "source": [
    "run_files_data('rna-2020.1-pp2-data/')"
   ]
  },
  {
   "cell_type": "markdown",
   "metadata": {},
   "source": [
    "### visualizando o conteúdo dos arquivos"
   ]
  },
  {
   "cell_type": "code",
   "execution_count": 8,
   "metadata": {},
   "outputs": [
    {
     "output_type": "execute_result",
     "data": {
      "text/plain": "array([1.49351310e-03, 4.78163211e-04, 0.00000000e+00, ...,\n       1.55399036e+88, 4.76792279e-04, 3.05175781e-05])"
     },
     "metadata": {},
     "execution_count": 8
    }
   ],
   "source": [
    "np.fromfile('rna-2020.1-pp2-data\\data0.txt')"
   ]
  },
  {
   "cell_type": "code",
   "execution_count": 9,
   "metadata": {},
   "outputs": [
    {
     "output_type": "execute_result",
     "data": {
      "text/plain": "array([ 0.13658687, -0.16460088,  0.        , ...,  0.99252852,\n        1.06937678,  1.        ])"
     },
     "metadata": {},
     "execution_count": 9
    }
   ],
   "source": [
    "np.fromfile('rna-2020.1-pp2-data\\data1.txt')"
   ]
  },
  {
   "cell_type": "code",
   "execution_count": 11,
   "metadata": {},
   "outputs": [
    {
     "output_type": "execute_result",
     "data": {
      "text/plain": "array([ 0.00553719, -0.02079496,  1.        , ...,  0.99828858,\n        0.99300766,  0.        ])"
     },
     "metadata": {},
     "execution_count": 11
    }
   ],
   "source": [
    "np.fromfile('rna-2020.1-pp2-data\\data2.txt')"
   ]
  },
  {
   "cell_type": "code",
   "execution_count": 12,
   "metadata": {},
   "outputs": [
    {
     "output_type": "execute_result",
     "data": {
      "text/plain": "array([ 0.06162809, -0.1242566 ,  0.        , ...,  1.05935906,\n        0.93900834,  1.        ])"
     },
     "metadata": {},
     "execution_count": 12
    }
   ],
   "source": [
    "np.fromfile('rna-2020.1-pp2-data\\data3.txt')"
   ]
  },
  {
   "cell_type": "code",
   "execution_count": 16,
   "metadata": {},
   "outputs": [
    {
     "output_type": "execute_result",
     "data": {
      "text/plain": "array([-363.7884,  244.1423,    0.    , ..., -140.147 ,  734.0983,\n          0.    ])"
     },
     "metadata": {},
     "execution_count": 16
    }
   ],
   "source": [
    "np.fromfile('rna-2020.1-pp2-data\\dataAll.txt')"
   ]
  },
  {
   "cell_type": "code",
   "execution_count": 17,
   "metadata": {},
   "outputs": [
    {
     "output_type": "execute_result",
     "data": {
      "text/plain": "array([-0.29322959, -0.09065359,  1.        , ...,  0.72930655,\n        0.93224271,  0.        ])"
     },
     "metadata": {},
     "execution_count": 17
    }
   ],
   "source": [
    "np.fromfile('rna-2020.1-pp2-data\\dataHoldout.txt')"
   ]
  },
  {
   "cell_type": "markdown",
   "metadata": {},
   "source": [
    "## Reshape os conjuntos de dados"
   ]
  },
  {
   "cell_type": "code",
   "execution_count": 32,
   "metadata": {},
   "outputs": [],
   "source": [
    "\n",
    "\n",
    "def reshape_dataset(full_path):\n",
    "    try:\n",
    "        array = np.fromfile(full_path)\n",
    "        number_samples = array.shape[0]//3\n",
    "        array = array.reshape(number_samples, 3)\n",
    "        return array\n",
    "    except:\n",
    "        return ''\n",
    "\n",
    "def run_files_data(path_data):\n",
    "    datasets_list = []\n",
    "    for file_data in os.listdir(path_data):\n",
    "        full_path = os.path.join(path_data, file_data)\n",
    "        dataset = reshape_dataset(full_path)\n",
    "        if dataset != '':\n",
    "            datasets_list.append(dataset)\n",
    "    print(len(datasets_list))"
   ]
  },
  {
   "cell_type": "code",
   "execution_count": 33,
   "metadata": {
    "tags": []
   },
   "outputs": [
    {
     "output_type": "stream",
     "name": "stdout",
     "text": "5\n"
    }
   ],
   "source": [
    "run_files_data('rna-2020.1-pp2-data/')"
   ]
  },
  {
   "cell_type": "code",
   "execution_count": 52,
   "metadata": {
    "tags": []
   },
   "outputs": [
    {
     "output_type": "stream",
     "name": "stdout",
     "text": "\n0.0014935130967365896\n0.0004781632108761179\n0.0\n\n7.09001989770296e+280\n3.43577405274585e-310\n0.0004730224609375\n\n2.3224068453857122e+54\n3.43577586597467e-310\n0.00128173828125\n\n5.764064589227119e+20\n3.43575256195106e-310\n0.0001068115234375\n\n6.283109597865357e-86\n5.24258922e-315\n5.6934889212993654e-216\n\n0.0007399861919967622\n3.1e-322\n0.0004767922792309198\n\n0.00047930036479484976\n0.0\n0.0004738718845489382\n\n1.7381481825745278e-307\n3.0517578125e-05\n1.0910704693585321e-249\n\n3.44931426843504e-310\n2.6090274071679933e+213\n8.424190393876717e+68\n\n1.342103840487e-312\n0.00048023462295532227\n5.389771095531828e-05\n\n5.24258669e-315\n9.630940621718764e-05\n1.5194685497468057e-148\n\n2.0471274e-317\n9.3347340630038e-187\n1.2283765217210932e-129\n\n7.9994e-320\n3.4060951045503045e-105\n0.00320398667449942\n\n3.1e-322\n0.00047677804237043764\n0.0004772094584856202\n\n0.0\n0.00047680648229419327\n0.00047309681038941974\n\n0.0\n1.6871650879463898e-298\n3.43577598600496e-310\n\n1.709852201561616e+218\n4.0692300929036045e+44\n3.43574943168873e-310\n\n1.0732916221677157e+276\n2.5368518292898405e+266\n2.047882e-317\n\n0.0008009957364265574\n1.1282163863619254e-215\n2.047876e-317\n\n4.3087096393585195e-134\n0.0009540614778362529\n2.0501585e-317\n\n1.7148980526768751e+218\n4.2990356045704825e-134\n7.9994e-320\n\n0.002935545980619736\n0.00047677761096012847\n0.0\n\n0.007628896262715844\n3.43577581093023e-310\n1.6805133673525319e-18\n\n0.0004767922901586403\n3.43577581092983e-310\n2.6090274071679933e+213\n\n2.6985486162497333e-76\n3.4357757045093e-310\n1.201202692608752e+257\n\n2.2711571429824701e+136\n3.43577892283866e-310\n2.5737787947340145e-85\n\n6.25664620620077e+72\n1.342083153524e-312\n0.0004767775535583496\n\n1.9426957402075767e-177\n2.047858e-317\n9.249518006981816e-05\n\n0.007628522976974194\n3.1e-322\n8.074823501501645e+121\n\n3.4355899323115e-310\n8.004974622069417e+121\n6.775837117918468e-18\n\n3.43577601491847e-310\n0.0004730224609375\n4.012787651509659e+208\n\n3.43577581148674e-310\n1.6325548649218048e+16\n0.00047679227946809463\n\n3.43574162509105e-310\n3.845612400402237e-264\n2.2711575011077027e+136\n\n"
    }
   ],
   "source": [
    "from pprint import pprint\n",
    "file_data = np.fromfile('rna-2020.1-pp2-data/data0.txt')\n",
    "k = 0\n",
    "for i in range(0, 100, 3):\n",
    "    for j in range(k, i):\n",
    "        k = i\n",
    "        pprint(file_data[j])#, end='\\t\\t\\t')\n",
    "    print()\n"
   ]
  },
  {
   "cell_type": "code",
   "execution_count": null,
   "metadata": {},
   "outputs": [],
   "source": []
  }
 ]
}