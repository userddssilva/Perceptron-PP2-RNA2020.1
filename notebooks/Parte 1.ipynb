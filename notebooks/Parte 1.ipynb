{
 "cells": [
  {
   "cell_type": "markdown",
   "metadata": {},
   "source": [
    "# Parte 1 - Resolvendo um  Problema Linearmente Separável"
   ]
  },
  {
   "cell_type": "markdown",
   "metadata": {},
   "source": [
    "> Autor: Jonatas Travessa Souza de Barros - 1935310001\n",
    "\n",
    "> Autor: Franscisco Arcos Filho - 1215080042"
   ]
  },
  {
   "cell_type": "markdown",
   "metadata": {},
   "source": [
    "## Importação das bibliotecas"
   ]
  },
  {
   "cell_type": "code",
   "execution_count": 1,
   "metadata": {},
   "outputs": [],
   "source": [
    "\n",
    "from matplotlib import pyplot as plt\n",
    "import numpy as np\n",
    "import random\n",
    "import os"
   ]
  },
  {
   "cell_type": "markdown",
   "metadata": {},
   "source": [
    "## Leitura do arquivo dataAll.txt com numpy"
   ]
  },
  {
   "cell_type": "code",
   "execution_count": 2,
   "metadata": {},
   "outputs": [
    {
     "name": "stdout",
     "output_type": "stream",
     "text": [
      "[-363.7884  244.1423    0.     ... -140.147   734.0983    0.    ]\n"
     ]
    }
   ],
   "source": [
    "dataAll = np.fromfile('../dados/dataAll.txt')\n",
    "print(dataAll)"
   ]
  },
  {
   "cell_type": "markdown",
   "metadata": {},
   "source": [
    "### Vendo o formato inicial do array"
   ]
  },
  {
   "cell_type": "code",
   "execution_count": 3,
   "metadata": {},
   "outputs": [
    {
     "data": {
      "text/plain": [
       "(3000,)"
      ]
     },
     "execution_count": 3,
     "metadata": {},
     "output_type": "execute_result"
    }
   ],
   "source": [
    "dataAll.shape"
   ]
  },
  {
   "cell_type": "markdown",
   "metadata": {},
   "source": [
    "#### Sendo 3000 valores, significa que há 1000 exemplos, visto que cada exemplo é representado por (x1, x2, yd). Logo, vamos transformar o array para representar os exemplos."
   ]
  },
  {
   "cell_type": "code",
   "execution_count": 4,
   "metadata": {},
   "outputs": [
    {
     "name": "stdout",
     "output_type": "stream",
     "text": [
      "[[-363.7884  244.1423    0.    ]\n",
      " [ 328.7572 -256.7658    1.    ]\n",
      " [-164.9827  613.2164    0.    ]\n",
      " ...\n",
      " [ 872.4311  669.1192    1.    ]\n",
      " [ 822.6894 -702.6489    1.    ]\n",
      " [-140.147   734.0983    0.    ]]\n"
     ]
    }
   ],
   "source": [
    "dataAll = dataAll.reshape(1000, 3)\n",
    "print(dataAll)"
   ]
  },
  {
   "cell_type": "markdown",
   "metadata": {},
   "source": [
    "## Algoritmo de treinamento do Perceptron"
   ]
  },
  {
   "cell_type": "markdown",
   "metadata": {},
   "source": [
    "#### A implementação do algoritmo de treinamento do Perceptron usado para resolver a parte 1 está na pasta src cujo aqruivo python foi chamado de Peceptron_general.py."
   ]
  },
  {
   "cell_type": "code",
   "execution_count": 5,
   "metadata": {},
   "outputs": [],
   "source": [
    "import sys\n",
    "sys.path.append('../')\n",
    "from src.Perceptron_general import Perceptron_general"
   ]
  },
  {
   "cell_type": "markdown",
   "metadata": {},
   "source": [
    "#### Assim como na especificação da atividade será utilizada uma função degrau com valor de theta igual a 0 e uma taxa de aprendizado = 0,1 e também um viés."
   ]
  },
  {
   "cell_type": "code",
   "execution_count": 6,
   "metadata": {},
   "outputs": [],
   "source": [
    "theta = 0.0\n",
    "n = 0.1\n",
    "bias = -1.0\n",
    "perceptron = Perceptron_general(theta, n, bias)"
   ]
  },
  {
   "cell_type": "markdown",
   "metadata": {},
   "source": [
    "#### O vetor inicial de pesos deve ter seus valores inicializados conforme uma variável aleatória de distribuição uniforme no intervalo, isto é, wi ∼ U(−0,5, + 0,5). O vetor inicial de pesos deve ser impresso no início da execução do algoritmo. Além disso, será considerado precisão de 4 casas decimais."
   ]
  },
  {
   "cell_type": "code",
   "execution_count": 7,
   "metadata": {},
   "outputs": [
    {
     "data": {
      "text/plain": [
       "array([0.0529, 0.2212, 0.4117])"
      ]
     },
     "execution_count": 7,
     "metadata": {},
     "output_type": "execute_result"
    }
   ],
   "source": [
    "weights = perceptron.inittial_weights(-0.5, 0.5)\n",
    "weights"
   ]
  },
  {
   "cell_type": "markdown",
   "metadata": {},
   "source": [
    "#### processo de aprendizado."
   ]
  },
  {
   "cell_type": "code",
   "execution_count": 8,
   "metadata": {},
   "outputs": [
    {
     "name": "stdout",
     "output_type": "stream",
     "text": [
      "Vetor de pesos ajustado, novo vetor de pesos\n",
      "[  0.1529  36.6    -24.0025]\n",
      "\n",
      "Vetor de pesos ajustado, novo vetor de pesos\n",
      "[   0.2529  -17.0591 -100.4982]\n",
      "\n",
      "Vetor de pesos ajustado, novo vetor de pesos\n",
      "[  0.1529  55.7369 -64.6686]\n",
      "\n",
      "Vetor de pesos ajustado, novo vetor de pesos\n",
      "[  0.0529 138.3356  15.1872]\n",
      "\n",
      "Vetor de pesos ajustado, novo vetor de pesos\n",
      "[  0.1529 144.1814 -63.1074]\n",
      "\n",
      "Vetor de pesos ajustado, novo vetor de pesos\n",
      "[   0.2529  104.1725 -141.0001]\n",
      "\n",
      "Vetor de pesos ajustado, novo vetor de pesos\n",
      "[  0.3529 157.8423 -91.9078]\n",
      "\n",
      "Vetor de pesos ajustado, novo vetor de pesos\n",
      "[   0.2529  104.8822 -148.7773]\n",
      "\n",
      "Vetor de pesos ajustado, novo vetor de pesos\n",
      "[  0.3529 164.4417 -98.655 ]\n",
      "\n",
      "Vetor de pesos ajustado, novo vetor de pesos\n",
      "[   0.2529  118.9171 -164.2909]\n",
      "\n",
      "Vetor de pesos ajustado, novo vetor de pesos\n",
      "[  0.3529 209.633  -89.5776]\n",
      "\n",
      "Vetor de pesos ajustado, novo vetor de pesos\n",
      "[   0.2529  151.852  -149.8858]\n",
      "\n",
      "Vetor de pesos ajustado, novo vetor de pesos\n",
      "[   0.1529  103.5854 -198.3555]\n",
      "\n",
      "Vetor de pesos ajustado, novo vetor de pesos\n",
      "[   0.0529  174.0328 -156.2392]\n",
      "\n",
      "Vetor de pesos ajustado, novo vetor de pesos\n",
      "[  -0.0471  127.1908 -207.6491]\n",
      "\n",
      "Vetor de pesos ajustado, novo vetor de pesos\n",
      "[  -0.1471  197.0544 -143.4302]\n",
      "\n",
      "Vetor de pesos ajustado, novo vetor de pesos\n",
      "[  -0.0471  141.2187 -199.6077]\n",
      "\n",
      "Vetor de pesos ajustado, novo vetor de pesos\n",
      "[  -0.1471  218.2062 -134.7584]\n",
      "\n",
      "Vetor de pesos ajustado, novo vetor de pesos\n",
      "[  -0.2471  181.9362 -177.9864]\n",
      "\n",
      "Vetor de pesos ajustado, novo vetor de pesos\n",
      "[  -0.1471  163.6971 -196.32  ]\n",
      "\n",
      "Vetor de pesos ajustado, novo vetor de pesos\n",
      "[  -0.2471  239.1195 -130.2649]\n",
      "\n",
      "Vetor de pesos ajustado, novo vetor de pesos\n",
      "[  -0.3471  174.7604 -212.6873]\n",
      "\n",
      "Vetor de pesos ajustado, novo vetor de pesos\n",
      "[  -0.2471  266.0686 -129.4165]\n",
      "\n",
      "Vetor de pesos ajustado, novo vetor de pesos\n",
      "[  -0.3471  219.0238 -217.3204]\n",
      "\n",
      "Número de ajustes do vetor de pesos na época 1 : 24\n",
      "\n",
      "Vetor de pesos ajustado, novo vetor de pesos\n",
      "[  -0.4471  170.7572 -265.7901]\n",
      "\n",
      "Vetor de pesos ajustado, novo vetor de pesos\n",
      "[  -0.5471  240.6208 -201.5712]\n",
      "\n",
      "Vetor de pesos ajustado, novo vetor de pesos\n",
      "[  -0.4471  184.7851 -257.7487]\n",
      "\n",
      "Vetor de pesos ajustado, novo vetor de pesos\n",
      "[  -0.5471  261.7726 -192.8994]\n",
      "\n",
      "Vetor de pesos ajustado, novo vetor de pesos\n",
      "[  -0.6471  225.5026 -236.1274]\n",
      "\n",
      "Vetor de pesos ajustado, novo vetor de pesos\n",
      "[  -0.7471  308.3945 -153.3459]\n",
      "\n",
      "Vetor de pesos ajustado, novo vetor de pesos\n",
      "[  -0.8471  262.2471 -209.9953]\n",
      "\n",
      "Vetor de pesos ajustado, novo vetor de pesos\n",
      "[  -0.7471  235.6215 -242.5177]\n",
      "\n",
      "Vetor de pesos ajustado, novo vetor de pesos\n",
      "[  -0.8471  282.6459 -195.9635]\n",
      "\n",
      "Vetor de pesos ajustado, novo vetor de pesos\n",
      "[  -0.9471  252.7618 -229.0728]\n",
      "\n",
      "Vetor de pesos ajustado, novo vetor de pesos\n",
      "[  -0.8471  234.5227 -247.4064]\n",
      "\n",
      "Vetor de pesos ajustado, novo vetor de pesos\n",
      "[  -0.7471  265.8296 -216.7781]\n",
      "\n",
      "Vetor de pesos ajustado, novo vetor de pesos\n",
      "[  -0.6471  190.2757 -294.101 ]\n",
      "\n",
      "Vetor de pesos ajustado, novo vetor de pesos\n",
      "[  -0.5471  259.2516 -229.3101]\n",
      "\n",
      "Vetor de pesos ajustado, novo vetor de pesos\n",
      "[  -0.4471  163.44   -327.1918]\n",
      "\n",
      "Vetor de pesos ajustado, novo vetor de pesos\n",
      "[  -0.5471  244.6137 -275.8439]\n",
      "\n",
      "Vetor de pesos ajustado, novo vetor de pesos\n",
      "[  -0.4471  344.0815 -183.9543]\n",
      "\n",
      "Vetor de pesos ajustado, novo vetor de pesos\n",
      "[  -0.5471  285.3766 -276.2915]\n",
      "\n",
      "Vetor de pesos ajustado, novo vetor de pesos\n",
      "[  -0.4471  241.5185 -320.8305]\n",
      "\n",
      "Vetor de pesos ajustado, novo vetor de pesos\n",
      "[  -0.5471  328.7616 -253.9186]\n",
      "\n",
      "Número de ajustes do vetor de pesos na época 2 : 20\n",
      "\n",
      "Vetor de pesos ajustado, novo vetor de pesos\n",
      "[  -0.4471  297.3386 -288.3024]\n",
      "\n",
      "Vetor de pesos ajustado, novo vetor de pesos\n",
      "[  -0.5471  247.4288 -339.5628]\n",
      "\n",
      "Vetor de pesos ajustado, novo vetor de pesos\n",
      "[  -0.6471  274.8924 -318.7064]\n",
      "\n",
      "Vetor de pesos ajustado, novo vetor de pesos\n",
      "[  -0.5471  324.3532 -269.8124]\n",
      "\n",
      "Vetor de pesos ajustado, novo vetor de pesos\n",
      "[  -0.4471  296.1457 -303.3965]\n",
      "\n",
      "Vetor de pesos ajustado, novo vetor de pesos\n",
      "[  -0.3471  383.2805 -216.7067]\n",
      "\n",
      "Vetor de pesos ajustado, novo vetor de pesos\n",
      "[  -0.2471  331.3652 -272.9077]\n",
      "\n",
      "Vetor de pesos ajustado, novo vetor de pesos\n",
      "[  -0.1471  266.4792 -347.5238]\n",
      "\n",
      "Vetor de pesos ajustado, novo vetor de pesos\n",
      "[  -0.2471  356.188  -268.5151]\n",
      "\n",
      "Vetor de pesos ajustado, novo vetor de pesos\n",
      "[  -0.3471  278.725  -366.5028]\n",
      "\n",
      "Vetor de pesos ajustado, novo vetor de pesos\n",
      "[  -0.4471  323.6303 -323.0989]\n",
      "\n",
      "Número de ajustes do vetor de pesos na época 3 : 11\n",
      "\n",
      "Número de ajustes do vetor de pesos na época 4 : 0\n",
      "\n",
      "Número total de ajustes do vetor de pesos: 55\n"
     ]
    }
   ],
   "source": [
    "perceptron.fit(dataAll)\n"
   ]
  },
  {
   "cell_type": "markdown",
   "metadata": {},
   "source": [
    "## Resultados"
   ]
  },
  {
   "cell_type": "markdown",
   "metadata": {},
   "source": [
    "#### O número total de ajustes do vetor de pesos foi de 55.\n",
    "#### O número de épocas até a convergência foi de 4."
   ]
  },
  {
   "cell_type": "markdown",
   "metadata": {},
   "source": [
    "#### O seguinte vetor de pesos é capaz de prover a saída correta para todos os exemplos presentes em dataAll.txt."
   ]
  },
  {
   "cell_type": "code",
   "execution_count": 9,
   "metadata": {},
   "outputs": [
    {
     "data": {
      "text/plain": [
       "array([  -0.4471,  323.6303, -323.0989])"
      ]
     },
     "execution_count": 9,
     "metadata": {},
     "output_type": "execute_result"
    }
   ],
   "source": [
    "weights = perceptron.getWeights()\n",
    "weights"
   ]
  },
  {
   "cell_type": "markdown",
   "metadata": {},
   "source": [
    "### Cáculo da reta solução a partir do último vetor de pesos encontrado"
   ]
  },
  {
   "cell_type": "code",
   "execution_count": 10,
   "metadata": {},
   "outputs": [],
   "source": [
    "#Equação da reta: x2 = (weights[0]/weights[2]) - (weights[1]/weights[2])*x1\n",
    "\n",
    "#Encontrando dois pontos para obter a reta\n",
    "\n",
    "#para x1 igual a 1000:\n",
    "x2_1 = weights[0]/weights[2] - (weights[1]/weights[2])*(1000.0)\n",
    "\n",
    "#para x1 igual a -1000:\n",
    "x2_2 = weights[0]/weights[2] - (weights[1]/weights[2])*(-1000.0)"
   ]
  },
  {
   "cell_type": "markdown",
   "metadata": {},
   "source": [
    "### Gráfico do conjunto de dados e a reta que separa as classes"
   ]
  },
  {
   "cell_type": "code",
   "execution_count": 13,
   "metadata": {},
   "outputs": [
    {
     "data": {
      "image/png": "[encoded data removed]",
      "text/plain": [
       "<Figure size 936x504 with 1 Axes>"
      ]
     },
     "metadata": {
      "needs_background": "light"
     },
     "output_type": "display_data"
    }
   ],
   "source": [
    "\n",
    "plt.figure(figsize=(13, 7))\n",
    "x_b = []\n",
    "y_b = []\n",
    "x_r = []\n",
    "y_r = []\n",
    "for example in dataAll:\n",
    "    if example[2] == 1.0:\n",
    "        x_b.append(example[0])\n",
    "        y_b.append(example[1])\n",
    "    if example[2] == 0.0:\n",
    "        x_r.append(example[0])\n",
    "        y_r.append(example[1])\n",
    "        \n",
    "size = 10\n",
    "plt.scatter(x_b, y_b, s=size, color='b', marker=\"s\", label='1')\n",
    "plt.scatter(x_r, y_r, s=size, color='r', marker=\"o\", label='0')\n",
    "plt.legend(loc='upper left')\n",
    "plt.plot([1000, -1000],[x2_1, x2_2], color='black', linewidth=3)\n",
    "plt.show()\n"
   ]
  }
 ],
 "metadata": {
  "kernelspec": {
   "display_name": "Python 3",
   "language": "python",
   "name": "python3"
  },
  "language_info": {
   "codemirror_mode": {
    "name": "ipython",
    "version": 3
   },
   "file_extension": ".py",
   "mimetype": "text/x-python",
   "name": "python",
   "nbconvert_exporter": "python",
   "pygments_lexer": "ipython3",
   "version": "3.8.3"
  }
 },
 "nbformat": 4,
 "nbformat_minor": 4
}
