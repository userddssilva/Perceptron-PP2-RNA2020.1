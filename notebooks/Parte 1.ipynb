{
 "cells": [
  {
   "cell_type": "markdown",
   "metadata": {},
   "source": [
    "# Parte 1 - Resolvendo um  Problema Linearmente Separável"
   ]
  },
  {
   "cell_type": "markdown",
   "metadata": {},
   "source": [
    "> Autor: Jonatas Travessa Souza de Barros - 1935310001\n",
    "\n",
    "> Autor: Franscisco Arcos Filho - 1215080042"
   ]
  },
  {
   "cell_type": "markdown",
   "metadata": {},
   "source": [
    "## Importação das bibliotecas"
   ]
  },
  {
   "cell_type": "code",
   "execution_count": 2,
   "metadata": {},
   "outputs": [],
   "source": [
    "from matplotlib import pyplot as plt\n",
    "import numpy as np\n",
    "import random\n",
    "import os"
   ]
  },
  {
   "cell_type": "markdown",
   "metadata": {},
   "source": [
    "## Leitura do arquivo dataAll.txt com numpy"
   ]
  },
  {
   "cell_type": "code",
   "execution_count": 4,
   "metadata": {},
   "outputs": [
    {
     "name": "stdout",
     "output_type": "stream",
     "text": [
      "[-363.7884  244.1423    0.     ... -140.147   734.0983    0.    ]\n"
     ]
    }
   ],
   "source": [
    "dataAll = np.fromfile('dataAll.txt')\n",
    "print(dataAll)"
   ]
  },
  {
   "cell_type": "markdown",
   "metadata": {},
   "source": [
    "### Vendo o formato inicial do array"
   ]
  },
  {
   "cell_type": "code",
   "execution_count": 5,
   "metadata": {},
   "outputs": [
    {
     "data": {
      "text/plain": [
       "(3000,)"
      ]
     },
     "execution_count": 5,
     "metadata": {},
     "output_type": "execute_result"
    }
   ],
   "source": [
    "dataAll.shape"
   ]
  },
  {
   "cell_type": "markdown",
   "metadata": {},
   "source": [
    "#### Sendo 3000 valores, significa que há 1000 exemplos, visto que cada exemplo é representado por (x1, x2, yd). Logo, vamos transformar o array para representar os exemplos."
   ]
  },
  {
   "cell_type": "code",
   "execution_count": 6,
   "metadata": {},
   "outputs": [
    {
     "name": "stdout",
     "output_type": "stream",
     "text": [
      "[[-363.7884  244.1423    0.    ]\n",
      " [ 328.7572 -256.7658    1.    ]\n",
      " [-164.9827  613.2164    0.    ]\n",
      " ...\n",
      " [ 872.4311  669.1192    1.    ]\n",
      " [ 822.6894 -702.6489    1.    ]\n",
      " [-140.147   734.0983    0.    ]]\n"
     ]
    }
   ],
   "source": [
    "dataAll = dataAll.reshape(1000, 3)\n",
    "print(dataAll)"
   ]
  },
  {
   "cell_type": "markdown",
   "metadata": {},
   "source": [
    "## Algoritmo de treinamento do Perceptron"
   ]
  },
  {
   "cell_type": "markdown",
   "metadata": {},
   "source": [
    "#### Assim como na especificação da atividade será utilizada uma função degrau com valor de theta igual a 0 e uma taxa de aprendizado = 0,1 e também um viés."
   ]
  },
  {
   "cell_type": "code",
   "execution_count": 7,
   "metadata": {},
   "outputs": [],
   "source": [
    "theta = 0.0\n",
    "n = 0.1\n",
    "bias = -1.0"
   ]
  },
  {
   "cell_type": "markdown",
   "metadata": {},
   "source": [
    "#### O vetor inicial de pesos deve ter seus valores inicializados conforme uma variável aleatória de distribuição uniforme no intervalo, isto é, wi ∼ U(−0,5, + 0,5). O vetor inicial de pesos deve ser impresso no início da execução do algoritmo. Além disso, será considerado precisão de 4 casas decimais"
   ]
  },
  {
   "cell_type": "code",
   "execution_count": 20,
   "metadata": {},
   "outputs": [
    {
     "data": {
      "text/plain": [
       "array([ 0.0398,  0.4776, -0.3683])"
      ]
     },
     "execution_count": 20,
     "metadata": {},
     "output_type": "execute_result"
    }
   ],
   "source": [
    "weights = np.random.uniform(-0.5, 0.5, size=(3, ))\n",
    "weights = np.round(weights, 4)\n",
    "weights"
   ]
  },
  {
   "cell_type": "markdown",
   "metadata": {},
   "source": [
    "#### processo de aprendizado"
   ]
  },
  {
   "cell_type": "code",
   "execution_count": 21,
   "metadata": {},
   "outputs": [
    {
     "name": "stdout",
     "output_type": "stream",
     "text": [
      "Vetor de pesos ajustado, novo vetor de pesos\n",
      "[  0.1398 -30.9454 -34.752 ]\n",
      "\n",
      "Vetor de pesos ajustado, novo vetor de pesos\n",
      "[ 0.0398 41.8506  1.0776]\n",
      "\n",
      "Vetor de pesos ajustado, novo vetor de pesos\n",
      "[ -0.0602  43.0038 -57.7704]\n",
      "\n",
      "Vetor de pesos ajustado, novo vetor de pesos\n",
      "[ -0.1602 125.6025  22.0854]\n",
      "\n",
      "Vetor de pesos ajustado, novo vetor de pesos\n",
      "[ -0.0602 131.4483 -56.2092]\n",
      "\n",
      "Vetor de pesos ajustado, novo vetor de pesos\n",
      "[   0.0398   91.4394 -134.1019]\n",
      "\n",
      "Vetor de pesos ajustado, novo vetor de pesos\n",
      "[  0.1398 149.8823 -92.5216]\n",
      "\n",
      "Vetor de pesos ajustado, novo vetor de pesos\n",
      "[   0.0398   96.9222 -149.3911]\n",
      "\n",
      "Vetor de pesos ajustado, novo vetor de pesos\n",
      "[  0.1398 156.4817 -99.2688]\n",
      "\n",
      "Vetor de pesos ajustado, novo vetor de pesos\n",
      "[   0.0398  110.9571 -164.9047]\n",
      "\n",
      "Vetor de pesos ajustado, novo vetor de pesos\n",
      "[   0.1398  166.6103 -127.3299]\n",
      "\n",
      "Vetor de pesos ajustado, novo vetor de pesos\n",
      "[   0.0398  108.8293 -187.638 ]\n",
      "\n",
      "Vetor de pesos ajustado, novo vetor de pesos\n",
      "[   0.1398  141.2972 -166.1852]\n",
      "\n",
      "Vetor de pesos ajustado, novo vetor de pesos\n",
      "[   0.0398  185.5187 -127.6996]\n",
      "\n",
      "Vetor de pesos ajustado, novo vetor de pesos\n",
      "[   0.1398  138.824  -179.3638]\n",
      "\n",
      "Vetor de pesos ajustado, novo vetor de pesos\n",
      "[   0.0398  199.8752 -129.5588]\n",
      "\n",
      "Vetor de pesos ajustado, novo vetor de pesos\n",
      "[   0.1398  142.6265 -202.9973]\n",
      "\n",
      "Vetor de pesos ajustado, novo vetor de pesos\n",
      "[   0.2398  217.5216 -145.3441]\n",
      "\n",
      "Vetor de pesos ajustado, novo vetor de pesos\n",
      "[   0.1398  167.6118 -196.6045]\n",
      "\n",
      "Vetor de pesos ajustado, novo vetor de pesos\n",
      "[   0.2398  217.0726 -147.7104]\n",
      "\n",
      "Vetor de pesos ajustado, novo vetor de pesos\n",
      "[   0.3398  188.8651 -181.2945]\n",
      "\n",
      "Vetor de pesos ajustado, novo vetor de pesos\n",
      "[   0.2398  120.0094 -251.3648]\n",
      "\n",
      "Vetor de pesos ajustado, novo vetor de pesos\n",
      "[   0.3398  151.4598 -226.9334]\n",
      "\n",
      "Vetor de pesos ajustado, novo vetor de pesos\n",
      "[   0.2398  214.3571 -168.7464]\n",
      "\n",
      "Vetor de pesos ajustado, novo vetor de pesos\n",
      "[   0.3398  165.24   -220.5953]\n",
      "\n",
      "Vetor de pesos ajustado, novo vetor de pesos\n",
      "[   0.2398  231.7199 -168.5895]\n",
      "\n",
      "Vetor de pesos ajustado, novo vetor de pesos\n",
      "[   0.1398  134.3085 -267.7607]\n",
      "\n",
      "Vetor de pesos ajustado, novo vetor de pesos\n",
      "[   0.0398  228.0941 -199.2668]\n",
      "\n",
      "Vetor de pesos ajustado, novo vetor de pesos\n",
      "[  -0.0602  142.9249 -293.0823]\n",
      "\n",
      "Vetor de pesos ajustado, novo vetor de pesos\n",
      "[  -0.1602  227.2833 -231.2696]\n",
      "\n",
      "Vetor de pesos ajustado, novo vetor de pesos\n",
      "[  -0.2602  310.1752 -148.4881]\n",
      "\n",
      "Vetor de pesos ajustado, novo vetor de pesos\n",
      "[  -0.3602  264.0278 -205.1375]\n",
      "\n",
      "Vetor de pesos ajustado, novo vetor de pesos\n",
      "[  -0.2602  237.4022 -237.6599]\n",
      "\n",
      "Número de ajustes do vetor de pesos na época 1 : 33\n",
      "\n",
      "Número de ajustes do vetor de pesos na época 2 : 0\n",
      "\n",
      "Número total de ajustes do vetor de pesos: 33\n"
     ]
    }
   ],
   "source": [
    "epochs = 0\n",
    "u = 0\n",
    "adjust_total = 0\n",
    "erros_in_epoch = 1000\n",
    "\n",
    "while (erros_in_epoch != 0):\n",
    "    epochs += 1\n",
    "    adjust_in_epoch = 0\n",
    "    erros_in_epoch = 0\n",
    "    \n",
    "    for example in dataAll:\n",
    "        fu = 0.0\n",
    "        u = weights[0]*bias + weights[1]*example[0] + weights[2]*example[1]\n",
    "        if u >= theta:\n",
    "            fu = 1.0\n",
    "        else:\n",
    "            fu = 0.0\n",
    "        u = 0.0\n",
    "        \n",
    "        if fu != example[2]:\n",
    "            adjust_in_epoch += 1\n",
    "            adjust_total += 1\n",
    "            erros_in_epoch += 1\n",
    "            weights = weights + n*(example[2] - fu)*np.array([bias, example[0], example[1]])\n",
    "            weights = np.round(weights, 4)\n",
    "            print(\"Vetor de pesos ajustado, novo vetor de pesos\")\n",
    "            np.set_printoptions(precision=4, suppress=True)\n",
    "            print(weights)\n",
    "            print(\"\")\n",
    "            \n",
    "    print(\"Número de ajustes do vetor de pesos na época\", epochs, \":\", adjust_in_epoch)\n",
    "    print(\"\")\n",
    "    \n",
    "print(\"Número total de ajustes do vetor de pesos:\", adjust_total)\n"
   ]
  },
  {
   "cell_type": "markdown",
   "metadata": {},
   "source": [
    "## Resultados"
   ]
  },
  {
   "cell_type": "markdown",
   "metadata": {},
   "source": [
    "#### O número total de ajustes do vetor de pesos foi de 33\n",
    "#### O número de épocas até a convergência foi de 2"
   ]
  },
  {
   "cell_type": "markdown",
   "metadata": {},
   "source": [
    "### Cáculo da reta solução a partir dos pesos encontrados"
   ]
  },
  {
   "cell_type": "code",
   "execution_count": 22,
   "metadata": {},
   "outputs": [],
   "source": [
    "#Equação da reta: x2 = (weights[0]/weights[2]) - (weights[1]/weights[2])*x1\n",
    "\n",
    "#Encontrando dois pontos para obter a reta\n",
    "\n",
    "#para x1 igual a 1000:\n",
    "x2_1 = weights[0]/weights[2] - (weights[1]/weights[2])*1000\n",
    "\n",
    "#para x1 igual a -1000:\n",
    "x2_2 = weights[0]/weights[2] - (weights[1]/weights[2])*(-1000)\n"
   ]
  },
  {
   "cell_type": "markdown",
   "metadata": {},
   "source": [
    "### Gráfico do conjunto de dados e a reta que separa as classes"
   ]
  },
  {
   "cell_type": "code",
   "execution_count": 28,
   "metadata": {},
   "outputs": [
    {
     "data": {
      "image/png": "[encoded data removed]",
      "text/plain": [
       "<Figure size 936x504 with 1 Axes>"
      ]
     },
     "metadata": {
      "needs_background": "light"
     },
     "output_type": "display_data"
    }
   ],
   "source": [
    "plt.figure(figsize=(13, 7))\n",
    "x_b = []\n",
    "y_b = []\n",
    "x_r = []\n",
    "y_r = []\n",
    "for example in dataAll:\n",
    "    if example[2] == 1.0:\n",
    "        x_b.append(example[0])\n",
    "        y_b.append(example[1])\n",
    "    if example[2] == 0.0:\n",
    "        x_r.append(example[0])\n",
    "        y_r.append(example[1])\n",
    "        \n",
    "size = 12\n",
    "plt.scatter(x_b, y_b, s=size, color='b', marker=\"s\", label='1')\n",
    "plt.scatter(x_r, y_r, s=size, color='r', marker=\"o\", label='0')\n",
    "plt.legend(loc='upper left')\n",
    "plt.plot([1000, -1000],[x2_1, x2_2], color='black', linewidth=2)\n",
    "plt.show()"
   ]
  },
  {
   "cell_type": "code",
   "execution_count": null,
   "metadata": {},
   "outputs": [],
   "source": []
  }
 ],
 "metadata": {
  "kernelspec": {
   "display_name": "Python 3",
   "language": "python",
   "name": "python3"
  },
  "language_info": {
   "codemirror_mode": {
    "name": "ipython",
    "version": 3
   },
   "file_extension": ".py",
   "mimetype": "text/x-python",
   "name": "python",
   "nbconvert_exporter": "python",
   "pygments_lexer": "ipython3",
   "version": "3.8.3"
  }
 },
 "nbformat": 4,
 "nbformat_minor": 4
}
