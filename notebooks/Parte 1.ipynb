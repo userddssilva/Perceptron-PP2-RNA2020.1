{
 "cells": [
  {
   "cell_type": "markdown",
   "metadata": {},
   "source": [
    "# Parte 1 - Resolvendo um  Problema Linearmente Separável"
   ]
  },
  {
   "cell_type": "markdown",
   "metadata": {},
   "source": [
    "> Autor: Jonatas Travessa Souza de Barros - 1935310001\n",
    "\n",
    "> Autor: Franscisco Arcos Filho - 1215080042"
   ]
  },
  {
   "cell_type": "markdown",
   "metadata": {},
   "source": [
    "## Importação das bibliotecas"
   ]
  },
  {
   "cell_type": "code",
   "execution_count": 1,
   "metadata": {},
   "outputs": [],
   "source": [
    "from matplotlib import pyplot as plt\n",
    "import numpy as np\n",
    "import random\n",
    "import os"
   ]
  },
  {
   "cell_type": "markdown",
   "metadata": {},
   "source": [
    "## Leitura do arquivo dataAll.txt com numpy"
   ]
  },
  {
   "cell_type": "code",
   "execution_count": 2,
   "metadata": {},
   "outputs": [
    {
     "name": "stdout",
     "output_type": "stream",
     "text": [
      "[-363.7884  244.1423    0.     ... -140.147   734.0983    0.    ]\n"
     ]
    }
   ],
   "source": [
    "dataAll = np.fromfile('../dados/dataAll.txt')\n",
    "print(dataAll)"
   ]
  },
  {
   "cell_type": "markdown",
   "metadata": {},
   "source": [
    "### Vendo o formato inicial do array"
   ]
  },
  {
   "cell_type": "code",
   "execution_count": 3,
   "metadata": {},
   "outputs": [
    {
     "data": {
      "text/plain": [
       "(3000,)"
      ]
     },
     "execution_count": 3,
     "metadata": {},
     "output_type": "execute_result"
    }
   ],
   "source": [
    "dataAll.shape"
   ]
  },
  {
   "cell_type": "markdown",
   "metadata": {},
   "source": [
    "#### Sendo 3000 valores, significa que há 1000 exemplos, visto que cada exemplo é representado por (x1, x2, yd). Logo, vamos transformar o array para representar os exemplos."
   ]
  },
  {
   "cell_type": "code",
   "execution_count": 4,
   "metadata": {},
   "outputs": [
    {
     "name": "stdout",
     "output_type": "stream",
     "text": [
      "[[-363.7884  244.1423    0.    ]\n",
      " [ 328.7572 -256.7658    1.    ]\n",
      " [-164.9827  613.2164    0.    ]\n",
      " ...\n",
      " [ 872.4311  669.1192    1.    ]\n",
      " [ 822.6894 -702.6489    1.    ]\n",
      " [-140.147   734.0983    0.    ]]\n"
     ]
    }
   ],
   "source": [
    "dataAll = dataAll.reshape(1000, 3)\n",
    "print(dataAll)"
   ]
  },
  {
   "cell_type": "markdown",
   "metadata": {},
   "source": [
    "## Algoritmo de treinamento do Perceptron"
   ]
  },
  {
   "cell_type": "markdown",
   "metadata": {},
   "source": [
    "#### A implementação do algoritmo de treinamento do Perceptron usado para resolver a parte 1 está na pasta src cujo aqruivo python foi chamado de Peceptron_general.py."
   ]
  },
  {
   "cell_type": "code",
   "execution_count": 5,
   "metadata": {},
   "outputs": [],
   "source": [
    "import sys\n",
    "sys.path.append('../')\n",
    "from src.Perceptron_general import Perceptron_general"
   ]
  },
  {
   "cell_type": "markdown",
   "metadata": {},
   "source": [
    "#### Assim como na especificação da atividade será utilizada uma função degrau com valor de theta igual a 0 e uma taxa de aprendizado = 0,1 e também um viés."
   ]
  },
  {
   "cell_type": "code",
   "execution_count": 6,
   "metadata": {},
   "outputs": [],
   "source": [
    "theta = 0.0\n",
    "n = 0.1\n",
    "bias = -1.0\n",
    "perceptron = Perceptron_general(theta, n, bias)"
   ]
  },
  {
   "cell_type": "markdown",
   "metadata": {},
   "source": [
    "#### O vetor inicial de pesos deve ter seus valores inicializados conforme uma variável aleatória de distribuição uniforme no intervalo, isto é, wi ∼ U(−0,5, + 0,5). O vetor inicial de pesos deve ser impresso no início da execução do algoritmo. Além disso, será considerado precisão de 4 casas decimais."
   ]
  },
  {
   "cell_type": "code",
   "execution_count": 7,
   "metadata": {},
   "outputs": [
    {
     "data": {
      "text/plain": [
       "array([-0.4045,  0.0815,  0.4693])"
      ]
     },
     "execution_count": 7,
     "metadata": {},
     "output_type": "execute_result"
    }
   ],
   "source": [
    "weights = perceptron.inittial_weights(-0.5, 0.5)\n",
    "weights"
   ]
  },
  {
   "cell_type": "markdown",
   "metadata": {},
   "source": [
    "#### processo de aprendizado."
   ]
  },
  {
   "cell_type": "code",
   "execution_count": 8,
   "metadata": {},
   "outputs": [
    {
     "name": "stdout",
     "output_type": "stream",
     "text": [
      "Vetor de pesos ajustado, novo vetor de pesos\n",
      "[ -0.3045  36.4603 -23.9449]\n",
      "\n",
      "Vetor de pesos ajustado, novo vetor de pesos\n",
      "[  -0.2045  -17.1988 -100.4406]\n",
      "\n",
      "Vetor de pesos ajustado, novo vetor de pesos\n",
      "[ -0.3045  55.5972 -64.611 ]\n",
      "\n",
      "Vetor de pesos ajustado, novo vetor de pesos\n",
      "[ -0.4045 138.1959  15.2448]\n",
      "\n",
      "Vetor de pesos ajustado, novo vetor de pesos\n",
      "[ -0.3045 144.0417 -63.0498]\n",
      "\n",
      "Vetor de pesos ajustado, novo vetor de pesos\n",
      "[  -0.2045  104.0328 -140.9425]\n",
      "\n",
      "Vetor de pesos ajustado, novo vetor de pesos\n",
      "[ -0.1045 157.7026 -91.8502]\n",
      "\n",
      "Vetor de pesos ajustado, novo vetor de pesos\n",
      "[  -0.2045  104.7425 -148.7197]\n",
      "\n",
      "Vetor de pesos ajustado, novo vetor de pesos\n",
      "[ -0.1045 164.302  -98.5974]\n",
      "\n",
      "Vetor de pesos ajustado, novo vetor de pesos\n",
      "[  -0.2045  118.7774 -164.2333]\n",
      "\n",
      "Vetor de pesos ajustado, novo vetor de pesos\n",
      "[ -0.1045 209.4933 -89.52  ]\n",
      "\n",
      "Vetor de pesos ajustado, novo vetor de pesos\n",
      "[  -0.2045  151.7123 -149.8282]\n",
      "\n",
      "Vetor de pesos ajustado, novo vetor de pesos\n",
      "[  -0.3045  103.4457 -198.2979]\n",
      "\n",
      "Vetor de pesos ajustado, novo vetor de pesos\n",
      "[  -0.4045  173.8931 -156.1816]\n",
      "\n",
      "Vetor de pesos ajustado, novo vetor de pesos\n",
      "[  -0.5045  127.0511 -207.5915]\n",
      "\n",
      "Vetor de pesos ajustado, novo vetor de pesos\n",
      "[  -0.6045  196.9147 -143.3726]\n",
      "\n",
      "Vetor de pesos ajustado, novo vetor de pesos\n",
      "[  -0.5045  141.079  -199.5501]\n",
      "\n",
      "Vetor de pesos ajustado, novo vetor de pesos\n",
      "[  -0.6045  218.0665 -134.7008]\n",
      "\n",
      "Vetor de pesos ajustado, novo vetor de pesos\n",
      "[  -0.7045  181.7965 -177.9288]\n",
      "\n",
      "Vetor de pesos ajustado, novo vetor de pesos\n",
      "[  -0.6045  163.5574 -196.2624]\n",
      "\n",
      "Vetor de pesos ajustado, novo vetor de pesos\n",
      "[  -0.7045  238.9798 -130.2073]\n",
      "\n",
      "Vetor de pesos ajustado, novo vetor de pesos\n",
      "[  -0.8045  174.6207 -212.6297]\n",
      "\n",
      "Vetor de pesos ajustado, novo vetor de pesos\n",
      "[  -0.7045  265.9289 -129.3589]\n",
      "\n",
      "Vetor de pesos ajustado, novo vetor de pesos\n",
      "[  -0.8045  218.8841 -217.2628]\n",
      "\n",
      "Número de ajustes do vetor de pesos na época 1 : 24\n",
      "\n",
      "Vetor de pesos ajustado, novo vetor de pesos\n",
      "[  -0.9045  170.6175 -265.7325]\n",
      "\n",
      "Vetor de pesos ajustado, novo vetor de pesos\n",
      "[  -1.0045  240.4811 -201.5136]\n",
      "\n",
      "Vetor de pesos ajustado, novo vetor de pesos\n",
      "[  -0.9045  184.6454 -257.6911]\n",
      "\n",
      "Vetor de pesos ajustado, novo vetor de pesos\n",
      "[  -1.0045  261.6329 -192.8418]\n",
      "\n",
      "Vetor de pesos ajustado, novo vetor de pesos\n",
      "[  -1.1045  225.3629 -236.0698]\n",
      "\n",
      "Vetor de pesos ajustado, novo vetor de pesos\n",
      "[  -1.2045  308.2548 -153.2883]\n",
      "\n",
      "Vetor de pesos ajustado, novo vetor de pesos\n",
      "[  -1.3045  262.1074 -209.9377]\n",
      "\n",
      "Vetor de pesos ajustado, novo vetor de pesos\n",
      "[  -1.2045  235.4818 -242.4601]\n",
      "\n",
      "Vetor de pesos ajustado, novo vetor de pesos\n",
      "[  -1.3045  282.5062 -195.9059]\n",
      "\n",
      "Vetor de pesos ajustado, novo vetor de pesos\n",
      "[  -1.4045  252.6221 -229.0152]\n",
      "\n",
      "Vetor de pesos ajustado, novo vetor de pesos\n",
      "[  -1.3045  234.383  -247.3488]\n",
      "\n",
      "Vetor de pesos ajustado, novo vetor de pesos\n",
      "[  -1.2045  265.6899 -216.7205]\n",
      "\n",
      "Vetor de pesos ajustado, novo vetor de pesos\n",
      "[  -1.1045  190.136  -294.0434]\n",
      "\n",
      "Vetor de pesos ajustado, novo vetor de pesos\n",
      "[  -1.0045  259.1119 -229.2525]\n",
      "\n",
      "Vetor de pesos ajustado, novo vetor de pesos\n",
      "[  -0.9045  163.3003 -327.1342]\n",
      "\n",
      "Vetor de pesos ajustado, novo vetor de pesos\n",
      "[  -1.0045  244.474  -275.7863]\n",
      "\n",
      "Vetor de pesos ajustado, novo vetor de pesos\n",
      "[  -0.9045  343.9418 -183.8967]\n",
      "\n",
      "Vetor de pesos ajustado, novo vetor de pesos\n",
      "[  -1.0045  285.2369 -276.234 ]\n",
      "\n",
      "Vetor de pesos ajustado, novo vetor de pesos\n",
      "[  -0.9045  241.3788 -320.773 ]\n",
      "\n",
      "Vetor de pesos ajustado, novo vetor de pesos\n",
      "[  -1.0045  328.6219 -253.8611]\n",
      "\n",
      "Número de ajustes do vetor de pesos na época 2 : 20\n",
      "\n",
      "Vetor de pesos ajustado, novo vetor de pesos\n",
      "[  -0.9045  297.1989 -288.2448]\n",
      "\n",
      "Vetor de pesos ajustado, novo vetor de pesos\n",
      "[  -1.0045  247.2891 -339.5052]\n",
      "\n",
      "Vetor de pesos ajustado, novo vetor de pesos\n",
      "[  -1.1045  274.7527 -318.6488]\n",
      "\n",
      "Vetor de pesos ajustado, novo vetor de pesos\n",
      "[  -1.0045  324.2135 -269.7548]\n",
      "\n",
      "Vetor de pesos ajustado, novo vetor de pesos\n",
      "[  -0.9045  296.006  -303.3389]\n",
      "\n",
      "Vetor de pesos ajustado, novo vetor de pesos\n",
      "[  -0.8045  383.1408 -216.6491]\n",
      "\n",
      "Vetor de pesos ajustado, novo vetor de pesos\n",
      "[  -0.7045  331.2255 -272.8501]\n",
      "\n",
      "Vetor de pesos ajustado, novo vetor de pesos\n",
      "[  -0.6045  266.3395 -347.4662]\n",
      "\n",
      "Vetor de pesos ajustado, novo vetor de pesos\n",
      "[  -0.7045  356.0483 -268.4575]\n",
      "\n",
      "Vetor de pesos ajustado, novo vetor de pesos\n",
      "[  -0.8045  278.5853 -366.4452]\n",
      "\n",
      "Vetor de pesos ajustado, novo vetor de pesos\n",
      "[  -0.9045  323.4906 -323.0413]\n",
      "\n",
      "Número de ajustes do vetor de pesos na época 3 : 11\n",
      "\n",
      "Número de ajustes do vetor de pesos na época 4 : 0\n",
      "\n",
      "Número total de ajustes do vetor de pesos: 55\n"
     ]
    }
   ],
   "source": [
    "perceptron.fitParte1(dataAll)\n"
   ]
  },
  {
   "cell_type": "markdown",
   "metadata": {},
   "source": [
    "## Resultados"
   ]
  },
  {
   "cell_type": "markdown",
   "metadata": {},
   "source": [
    "#### O número total de ajustes do vetor de pesos foi de 55.\n",
    "#### O número de épocas até a convergência foi de 4."
   ]
  },
  {
   "cell_type": "markdown",
   "metadata": {},
   "source": [
    "#### O seguinte vetor de pesos é capaz de prover a saída correta para todos os exemplos presentes em dataAll.txt."
   ]
  },
  {
   "cell_type": "code",
   "execution_count": 9,
   "metadata": {},
   "outputs": [
    {
     "data": {
      "text/plain": [
       "array([  -0.9045,  323.4906, -323.0413])"
      ]
     },
     "execution_count": 9,
     "metadata": {},
     "output_type": "execute_result"
    }
   ],
   "source": [
    "weights = perceptron.getWeights()\n",
    "weights"
   ]
  },
  {
   "cell_type": "markdown",
   "metadata": {},
   "source": [
    "### Cáculo da reta solução a partir do último vetor de pesos encontrado"
   ]
  },
  {
   "cell_type": "code",
   "execution_count": 10,
   "metadata": {},
   "outputs": [],
   "source": [
    "#Equação da reta: x2 = (weights[0]/weights[2]) - (weights[1]/weights[2])*x1\n",
    "\n",
    "#Encontrando dois pontos para obter a reta\n",
    "\n",
    "#para x1 igual a 1000:\n",
    "x2_1 = weights[0]/weights[2] - (weights[1]/weights[2])*(1000.0)\n",
    "\n",
    "#para x1 igual a -1000:\n",
    "x2_2 = weights[0]/weights[2] - (weights[1]/weights[2])*(-1000.0)"
   ]
  },
  {
   "cell_type": "markdown",
   "metadata": {},
   "source": [
    "### Gráfico do conjunto de dados e a reta que separa as classes"
   ]
  },
  {
   "cell_type": "code",
   "execution_count": 11,
   "metadata": {},
   "outputs": [
    {
     "data": {
      "image/png": "[encoded data removed]",
      "text/plain": [
       "<Figure size 936x504 with 1 Axes>"
      ]
     },
     "metadata": {
      "needs_background": "light"
     },
     "output_type": "display_data"
    }
   ],
   "source": [
    "plt.figure(figsize=(13, 7))\n",
    "x_b = []\n",
    "y_b = []\n",
    "x_r = []\n",
    "y_r = []\n",
    "for example in dataAll:\n",
    "    if example[2] == 1.0:\n",
    "        x_b.append(example[0])\n",
    "        y_b.append(example[1])\n",
    "    if example[2] == 0.0:\n",
    "        x_r.append(example[0])\n",
    "        y_r.append(example[1])\n",
    "        \n",
    "size = 10\n",
    "plt.scatter(x_b, y_b, s=size, color='b', marker=\"s\", label='1')\n",
    "plt.scatter(x_r, y_r, s=size, color='r', marker=\"o\", label='0')\n",
    "plt.legend(loc='upper left')\n",
    "plt.plot([1000, -1000],[x2_1, x2_2], color='black', linewidth=3)\n",
    "plt.show()\n"
   ]
  },
  {
   "cell_type": "code",
   "execution_count": null,
   "metadata": {},
   "outputs": [],
   "source": []
  }
 ],
 "metadata": {
  "kernelspec": {
   "display_name": "Python 3",
   "language": "python",
   "name": "python3"
  },
  "language_info": {
   "codemirror_mode": {
    "name": "ipython",
    "version": 3
   },
   "file_extension": ".py",
   "mimetype": "text/x-python",
   "name": "python",
   "nbconvert_exporter": "python",
   "pygments_lexer": "ipython3",
   "version": "3.8.3"
  }
 },
 "nbformat": 4,
 "nbformat_minor": 4
}
