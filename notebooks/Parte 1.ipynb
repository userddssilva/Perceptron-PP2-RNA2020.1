{
 "cells": [
  {
   "cell_type": "markdown",
   "metadata": {},
   "source": [
    "# Parte 1 - Resolvendo um  Problema Linearmente Separável"
   ]
  },
  {
   "cell_type": "markdown",
   "metadata": {},
   "source": [
    "> Autor: Jonatas Travessa Souza de Barros - 1935310001\n",
    "\n",
    "> Autor: Franscisco Arcos Filho - 1215080042"
   ]
  },
  {
   "cell_type": "markdown",
   "metadata": {},
   "source": [
    "## Importação das bibliotecas"
   ]
  },
  {
   "cell_type": "code",
   "execution_count": 4,
   "metadata": {},
   "outputs": [],
   "source": [
    "from matplotlib import pyplot as plt\n",
    "import numpy as np\n",
    "import random\n",
    "import os"
   ]
  },
  {
   "cell_type": "markdown",
   "metadata": {},
   "source": [
    "## Leitura do arquivo dataAll.txt com numpy"
   ]
  },
  {
   "cell_type": "code",
   "execution_count": 5,
   "metadata": {},
   "outputs": [
    {
     "name": "stdout",
     "output_type": "stream",
     "text": [
      "[-363.7884  244.1423    0.     ... -140.147   734.0983    0.    ]\n"
     ]
    }
   ],
   "source": [
    "dataAll = np.fromfile('../dados/dataAll.txt')\n",
    "print(dataAll)"
   ]
  },
  {
   "cell_type": "markdown",
   "metadata": {},
   "source": [
    "### Vendo o formato inicial do array"
   ]
  },
  {
   "cell_type": "code",
   "execution_count": 6,
   "metadata": {},
   "outputs": [
    {
     "data": {
      "text/plain": [
       "(3000,)"
      ]
     },
     "execution_count": 6,
     "metadata": {},
     "output_type": "execute_result"
    }
   ],
   "source": [
    "dataAll.shape"
   ]
  },
  {
   "cell_type": "markdown",
   "metadata": {},
   "source": [
    "#### Sendo 3000 valores, significa que há 1000 exemplos, visto que cada exemplo é representado por (x1, x2, yd). Logo, vamos transformar o array para representar os exemplos."
   ]
  },
  {
   "cell_type": "code",
   "execution_count": 7,
   "metadata": {},
   "outputs": [
    {
     "name": "stdout",
     "output_type": "stream",
     "text": [
      "[[-363.7884  244.1423    0.    ]\n",
      " [ 328.7572 -256.7658    1.    ]\n",
      " [-164.9827  613.2164    0.    ]\n",
      " ...\n",
      " [ 872.4311  669.1192    1.    ]\n",
      " [ 822.6894 -702.6489    1.    ]\n",
      " [-140.147   734.0983    0.    ]]\n"
     ]
    }
   ],
   "source": [
    "dataAll = dataAll.reshape(1000, 3)\n",
    "print(dataAll)"
   ]
  },
  {
   "cell_type": "markdown",
   "metadata": {},
   "source": [
    "## Algoritmo de treinamento do Perceptron"
   ]
  },
  {
   "cell_type": "markdown",
   "metadata": {},
   "source": [
    "#### Assim como na especificação da atividade será utilizada uma função degrau com valor de theta igual a 0 e uma taxa de aprendizado = 0,1 e também um viés."
   ]
  },
  {
   "cell_type": "code",
   "execution_count": 8,
   "metadata": {},
   "outputs": [],
   "source": [
    "theta = 0.0\n",
    "n = 0.1\n",
    "bias = -1.0"
   ]
  },
  {
   "cell_type": "markdown",
   "metadata": {},
   "source": [
    "#### O vetor inicial de pesos deve ter seus valores inicializados conforme uma variável aleatória de distribuição uniforme no intervalo, isto é, wi ∼ U(−0,5, + 0,5). O vetor inicial de pesos deve ser impresso no início da execução do algoritmo. Além disso, será considerado precisão de 4 casas decimais"
   ]
  },
  {
   "cell_type": "code",
   "execution_count": 9,
   "metadata": {},
   "outputs": [
    {
     "data": {
      "text/plain": [
       "array([ 0.0334, -0.2016,  0.1055])"
      ]
     },
     "execution_count": 9,
     "metadata": {},
     "output_type": "execute_result"
    }
   ],
   "source": [
    "weights = np.random.uniform(-0.5, 0.5, size=(3, ))\n",
    "weights = np.round(weights, 4)\n",
    "weights"
   ]
  },
  {
   "cell_type": "markdown",
   "metadata": {},
   "source": [
    "#### processo de aprendizado"
   ]
  },
  {
   "cell_type": "code",
   "execution_count": 10,
   "metadata": {},
   "outputs": [
    {
     "name": "stdout",
     "output_type": "stream",
     "text": [
      "Vetor de pesos ajustado, novo vetor de pesos\n",
      "[  0.1334  36.1772 -24.3087]\n",
      "\n",
      "Vetor de pesos ajustado, novo vetor de pesos\n",
      "[   0.2334  -17.4819 -100.8044]\n",
      "\n",
      "Vetor de pesos ajustado, novo vetor de pesos\n",
      "[  0.1334  55.3141 -64.9748]\n",
      "\n",
      "Vetor de pesos ajustado, novo vetor de pesos\n",
      "[  0.0334 137.9128  14.881 ]\n",
      "\n",
      "Vetor de pesos ajustado, novo vetor de pesos\n",
      "[  0.1334 143.7586 -63.4136]\n",
      "\n",
      "Vetor de pesos ajustado, novo vetor de pesos\n",
      "[   0.2334  103.7497 -141.3063]\n",
      "\n",
      "Vetor de pesos ajustado, novo vetor de pesos\n",
      "[  0.3334 157.4195 -92.214 ]\n",
      "\n",
      "Vetor de pesos ajustado, novo vetor de pesos\n",
      "[   0.2334  104.4594 -149.0835]\n",
      "\n",
      "Vetor de pesos ajustado, novo vetor de pesos\n",
      "[  0.3334 164.0189 -98.9612]\n",
      "\n",
      "Vetor de pesos ajustado, novo vetor de pesos\n",
      "[   0.2334  118.4943 -164.5971]\n",
      "\n",
      "Vetor de pesos ajustado, novo vetor de pesos\n",
      "[  0.3334 209.2102 -89.8838]\n",
      "\n",
      "Vetor de pesos ajustado, novo vetor de pesos\n",
      "[   0.2334  151.4292 -150.192 ]\n",
      "\n",
      "Vetor de pesos ajustado, novo vetor de pesos\n",
      "[   0.1334  103.1626 -198.6617]\n",
      "\n",
      "Vetor de pesos ajustado, novo vetor de pesos\n",
      "[   0.0334  173.61   -156.5454]\n",
      "\n",
      "Vetor de pesos ajustado, novo vetor de pesos\n",
      "[  -0.0666  126.768  -207.9553]\n",
      "\n",
      "Vetor de pesos ajustado, novo vetor de pesos\n",
      "[  -0.1666  196.6316 -143.7364]\n",
      "\n",
      "Vetor de pesos ajustado, novo vetor de pesos\n",
      "[  -0.0666  140.7959 -199.9139]\n",
      "\n",
      "Vetor de pesos ajustado, novo vetor de pesos\n",
      "[  -0.1666  217.7834 -135.0646]\n",
      "\n",
      "Vetor de pesos ajustado, novo vetor de pesos\n",
      "[  -0.2666  181.5134 -178.2926]\n",
      "\n",
      "Vetor de pesos ajustado, novo vetor de pesos\n",
      "[  -0.1666  163.2743 -196.6262]\n",
      "\n",
      "Vetor de pesos ajustado, novo vetor de pesos\n",
      "[  -0.2666  238.6967 -130.5711]\n",
      "\n",
      "Vetor de pesos ajustado, novo vetor de pesos\n",
      "[  -0.3666  174.3376 -212.9935]\n",
      "\n",
      "Vetor de pesos ajustado, novo vetor de pesos\n",
      "[  -0.2666  265.6458 -129.7227]\n",
      "\n",
      "Vetor de pesos ajustado, novo vetor de pesos\n",
      "[  -0.3666  218.601  -217.6266]\n",
      "\n",
      "Número de ajustes do vetor de pesos na época 1 : 24\n",
      "\n",
      "Vetor de pesos ajustado, novo vetor de pesos\n",
      "[  -0.4666  170.3344 -266.0963]\n",
      "\n",
      "Vetor de pesos ajustado, novo vetor de pesos\n",
      "[  -0.5666  240.198  -201.8774]\n",
      "\n",
      "Vetor de pesos ajustado, novo vetor de pesos\n",
      "[  -0.4666  184.3623 -258.0549]\n",
      "\n",
      "Vetor de pesos ajustado, novo vetor de pesos\n",
      "[  -0.5666  261.3498 -193.2056]\n",
      "\n",
      "Vetor de pesos ajustado, novo vetor de pesos\n",
      "[  -0.6666  225.0798 -236.4336]\n",
      "\n",
      "Vetor de pesos ajustado, novo vetor de pesos\n",
      "[  -0.7666  307.9717 -153.6521]\n",
      "\n",
      "Vetor de pesos ajustado, novo vetor de pesos\n",
      "[  -0.8666  261.8243 -210.3015]\n",
      "\n",
      "Vetor de pesos ajustado, novo vetor de pesos\n",
      "[  -0.7666  235.1987 -242.8239]\n",
      "\n",
      "Vetor de pesos ajustado, novo vetor de pesos\n",
      "[  -0.8666  282.2231 -196.2697]\n",
      "\n",
      "Vetor de pesos ajustado, novo vetor de pesos\n",
      "[  -0.9666  252.339  -229.379 ]\n",
      "\n",
      "Vetor de pesos ajustado, novo vetor de pesos\n",
      "[  -0.8666  234.0999 -247.7126]\n",
      "\n",
      "Vetor de pesos ajustado, novo vetor de pesos\n",
      "[  -0.7666  265.4068 -217.0843]\n",
      "\n",
      "Vetor de pesos ajustado, novo vetor de pesos\n",
      "[  -0.6666  189.8529 -294.4073]\n",
      "\n",
      "Vetor de pesos ajustado, novo vetor de pesos\n",
      "[  -0.5666  258.8288 -229.6164]\n",
      "\n",
      "Vetor de pesos ajustado, novo vetor de pesos\n",
      "[  -0.4666  163.0172 -327.4981]\n",
      "\n",
      "Vetor de pesos ajustado, novo vetor de pesos\n",
      "[  -0.5666  244.1909 -276.1502]\n",
      "\n",
      "Vetor de pesos ajustado, novo vetor de pesos\n",
      "[  -0.4666  343.6587 -184.2606]\n",
      "\n",
      "Vetor de pesos ajustado, novo vetor de pesos\n",
      "[  -0.5666  284.9538 -276.5978]\n",
      "\n",
      "Vetor de pesos ajustado, novo vetor de pesos\n",
      "[  -0.4666  241.0957 -321.1368]\n",
      "\n",
      "Vetor de pesos ajustado, novo vetor de pesos\n",
      "[  -0.5666  328.3388 -254.2249]\n",
      "\n",
      "Número de ajustes do vetor de pesos na época 2 : 20\n",
      "\n",
      "Vetor de pesos ajustado, novo vetor de pesos\n",
      "[  -0.4666  296.9158 -288.6086]\n",
      "\n",
      "Vetor de pesos ajustado, novo vetor de pesos\n",
      "[  -0.5666  247.006  -339.869 ]\n",
      "\n",
      "Vetor de pesos ajustado, novo vetor de pesos\n",
      "[  -0.6666  274.4696 -319.0126]\n",
      "\n",
      "Vetor de pesos ajustado, novo vetor de pesos\n",
      "[  -0.5666  323.9304 -270.1186]\n",
      "\n",
      "Vetor de pesos ajustado, novo vetor de pesos\n",
      "[  -0.4666  295.7229 -303.7027]\n",
      "\n",
      "Vetor de pesos ajustado, novo vetor de pesos\n",
      "[  -0.3666  382.8577 -217.0129]\n",
      "\n",
      "Vetor de pesos ajustado, novo vetor de pesos\n",
      "[  -0.2666  330.9424 -273.2139]\n",
      "\n",
      "Vetor de pesos ajustado, novo vetor de pesos\n",
      "[  -0.1666  266.0564 -347.83  ]\n",
      "\n",
      "Vetor de pesos ajustado, novo vetor de pesos\n",
      "[  -0.2666  355.7652 -268.8213]\n",
      "\n",
      "Vetor de pesos ajustado, novo vetor de pesos\n",
      "[  -0.3666  278.3022 -366.809 ]\n",
      "\n",
      "Vetor de pesos ajustado, novo vetor de pesos\n",
      "[  -0.4666  323.2075 -323.4051]\n",
      "\n",
      "Número de ajustes do vetor de pesos na época 3 : 11\n",
      "\n",
      "Número de ajustes do vetor de pesos na época 4 : 0\n",
      "\n",
      "Número total de ajustes do vetor de pesos: 55\n"
     ]
    }
   ],
   "source": [
    "epochs = 0\n",
    "u = 0\n",
    "adjust_total = 0\n",
    "erros_in_epoch = 1000\n",
    "\n",
    "while (erros_in_epoch != 0):\n",
    "    epochs += 1\n",
    "    adjust_in_epoch = 0\n",
    "    erros_in_epoch = 0\n",
    "    \n",
    "    for example in dataAll:\n",
    "        fu = 0.0\n",
    "        u = weights[0]*bias + weights[1]*example[0] + weights[2]*example[1]\n",
    "        if u >= theta:\n",
    "            fu = 1.0\n",
    "        else:\n",
    "            fu = 0.0\n",
    "        u = 0.0\n",
    "        \n",
    "        if fu != example[2]:\n",
    "            adjust_in_epoch += 1\n",
    "            adjust_total += 1\n",
    "            erros_in_epoch += 1\n",
    "            weights = weights + n*(example[2] - fu)*np.array([bias, example[0], example[1]])\n",
    "            weights = np.round(weights, 4)\n",
    "            print(\"Vetor de pesos ajustado, novo vetor de pesos\")\n",
    "            np.set_printoptions(precision=4, suppress=True)\n",
    "            print(weights)\n",
    "            print(\"\")\n",
    "            \n",
    "    print(\"Número de ajustes do vetor de pesos na época\", epochs, \":\", adjust_in_epoch)\n",
    "    print(\"\")\n",
    "    \n",
    "print(\"Número total de ajustes do vetor de pesos:\", adjust_total)\n"
   ]
  },
  {
   "cell_type": "markdown",
   "metadata": {},
   "source": [
    "## Resultados"
   ]
  },
  {
   "cell_type": "markdown",
   "metadata": {},
   "source": [
    "#### O número total de ajustes do vetor de pesos foi de 55\n",
    "#### O número de épocas até a convergência foi de 4"
   ]
  },
  {
   "cell_type": "markdown",
   "metadata": {},
   "source": [
    "### Cáculo da reta solução a partir dos pesos encontrados\n",
    "#### A equação da reta pode ser expressa por: x2 = (weights[0]/weights[2]) - (weights[1]/weights[2])*x1, onde:\n",
    "    x2 e x1, representam os eixos;\n",
    "    weights[0], último valor de peso atribuído ao viés;\n",
    "    weights[1], último valor de peso atribuído ao valor das entradas do eixo x1;\n",
    "    weights[2], último valor de peso atribuído ao valor das entradas do eixo x2;"
   ]
  },
  {
   "cell_type": "code",
   "execution_count": 11,
   "metadata": {},
   "outputs": [
    {
     "name": "stdout",
     "output_type": "stream",
     "text": [
      "Equação da reta solução: x2 = 0.0014 -(-0.9994)*x1\n"
     ]
    }
   ],
   "source": [
    "print(\"Equação da reta solução: x2 = \" + \n",
    "      str(np.round((weights[0]/weights[2]), 4)) + \n",
    "      \" -(\" + \n",
    "      str(np.round((weights[1]/weights[2]), 4)) + \n",
    "      \")*x1\")"
   ]
  },
  {
   "cell_type": "markdown",
   "metadata": {},
   "source": [
    "#### Em particular, a reta solução é muito próxima da reta x2 = x1"
   ]
  },
  {
   "cell_type": "markdown",
   "metadata": {},
   "source": [
    "### Gráfico do conjunto de dados e a reta solução que separa as classes"
   ]
  },
  {
   "cell_type": "code",
   "execution_count": 30,
   "metadata": {},
   "outputs": [
    {
     "data": {
      "image/png": "[encoded data removed]",
      "text/plain": [
       "<Figure size 936x504 with 1 Axes>"
      ]
     },
     "metadata": {
      "needs_background": "light"
     },
     "output_type": "display_data"
    }
   ],
   "source": [
    "plt.figure(figsize=(13, 7))\n",
    "x_b = []\n",
    "y_b = []\n",
    "x_r = []\n",
    "y_r = []\n",
    "for example in dataAll:\n",
    "    if example[2] == 1.0:\n",
    "        x_b.append(example[0])\n",
    "        y_b.append(example[1])\n",
    "    if example[2] == 0.0:\n",
    "        x_r.append(example[0])\n",
    "        y_r.append(example[1])\n",
    "        \n",
    "size = 10\n",
    "plt.scatter(x_b, y_b, s=size, color='b', marker=\"s\", label='1')\n",
    "plt.scatter(x_r, y_r, s=size, color='r', marker=\"o\", label='0')\n",
    "\n",
    "plt.legend(loc='upper left')\n",
    "plt.xlabel(\"x1\", size='x-large')\n",
    "plt.ylabel(\"x2\", labelpad=-10, size='x-large')\n",
    "\n",
    "slope = -(weights[0]/weights[2]) / (weights[0]/weights[1])  \n",
    "plt.axline((0, (weights[0]/weights[2])), slope=slope, color=\"black\", lw=2) \n",
    "\n",
    "plt.show()"
   ]
  }
 ],
 "metadata": {
  "kernelspec": {
   "display_name": "Python 3",
   "language": "python",
   "name": "python3"
  },
  "language_info": {
   "codemirror_mode": {
    "name": "ipython",
    "version": 3
   },
   "file_extension": ".py",
   "mimetype": "text/x-python",
   "name": "python",
   "nbconvert_exporter": "python",
   "pygments_lexer": "ipython3",
   "version": "3.6.9"
  }
 },
 "nbformat": 4,
 "nbformat_minor": 4
}
